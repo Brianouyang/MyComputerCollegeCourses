{
 "cells": [
  {
   "cell_type": "markdown",
   "metadata": {},
   "source": [
    "# python 中的类:\n",
    "什么是类?\n",
    "面向对象的设计思想是从自然界中来的，因为在自然界中，类（Class）和实例（Instance）的概念是很自然的。Class是一种抽象概念，比如我们定义的Class——Student，是指学生这个概念，而实例（Instance）则是一个个具体的Student，比如，Bart Simpson和Lisa Simpson是两个具体的Student。\n",
    "面向对象的抽象程度又比函数要高，因为一个Class既包含数据，又包含操作数据的方法。\n",
    "数据封装、继承和多态是面向对象的三大特点，我们后面会详细讲解。\n",
    "\n",
    "## 类和实例\n",
    "类(Class)和实例(Instance)是面向对象最重要的概念。\n",
    "\n",
    "类是指抽象出的模板。实例则是根据类创建出来的具体的“对象”，每个对象都拥有从类中继承的相同的方法，但各自的数据可能不同。\n",
    "\n",
    "在python中定义一个类:\n",
    "\n",
    "```python\n",
    "class Student(object):\n",
    "    pass\n",
    "```\n",
    "关键字class后面跟着类名，类名通常是大写字母开头的单词，紧接着是(object)，表示该类是从哪个类继承下来的。通常，如果没有合适的继承类，就使用object类，这是所有类最终都会继承下来的类。\n",
    "当我们定义好了 class ，就可以根据Student类创建实例："
   ]
  },
  {
   "cell_type": "code",
   "execution_count": 2,
   "metadata": {},
   "outputs": [],
   "source": [
    "class Person():\n",
    "    name=None\n",
    "    ID=None\n",
    "    \"\"\" 描述类信息，可被自动收集 \"\"\"\n",
    "    def __init__(self,name=None,ID=None):\n",
    "        self.name=name\n",
    "        self.ID=ID\n",
    "    def __repr__(self):\n",
    "        return \"my name is {name}, my ID is {ID}\".format(name=self.name,ID=self.ID)\n",
    "    def set_name(self,name):\n",
    "        self.name=name\n",
    "        print(\"updata name\")\n",
    "        return True\n",
    "    def set_ID(self,ID):\n",
    "        self.ID=ID\n",
    "        print(\"updata ID\")\n",
    "        return True"
   ]
  },
  {
   "cell_type": "code",
   "execution_count": 18,
   "metadata": {},
   "outputs": [],
   "source": [
    "class Student(Person):\n",
    "    school=None\n",
    "    \"\"\"学生应该有学校\"\"\"\n",
    "    def __init__(self,name=None,ID=None,school=None):\n",
    "        super(Student, self).__init__(name,ID)\n",
    "        self.school=school\n",
    "    def __repr__(self):\n",
    "        return \"\"\"\n",
    "my name is {name},\n",
    "my ID is {ID},\n",
    "my school is {school}\n",
    "        \"\"\".format(name=self.name,ID=self.ID,school=self.school)"
   ]
  },
  {
   "cell_type": "code",
   "execution_count": 19,
   "metadata": {},
   "outputs": [],
   "source": [
    "marcus=Student(\"Marcus\",17150011001,\"OUC\")"
   ]
  },
  {
   "cell_type": "code",
   "execution_count": 23,
   "metadata": {},
   "outputs": [
    {
     "name": "stdout",
     "output_type": "stream",
     "text": [
      "\n",
      "my name is Marcus,\n",
      "my ID is 17150011001,\n",
      "my school is OUC\n",
      "        \n",
      "None\n"
     ]
    }
   ],
   "source": [
    "print(marcus)\n",
    "print(marcus.__doc__)"
   ]
  },
  {
   "cell_type": "code",
   "execution_count": null,
   "metadata": {},
   "outputs": [],
   "source": [
    "__init__ :      构造函数，在生成对象时调用\n",
    "__del__ :       析构函数，释放对象时使用\n",
    "__repr__ :      打印，转换\n",
    "__setitem__ :   按照索引赋值\n",
    "__getitem__:    按照索引获取值\n",
    "__len__:        获得长度\n",
    "__cmp__:        比较运算\n",
    "__call__:       调用\n",
    "__add__:        加运算\n",
    "__sub__:        减运算\n",
    "__mul__:        乘运算\n",
    "__div__:        除运算\n",
    "__mod__:        求余运算\n",
    "__pow__:        幂"
   ]
  }
 ],
 "metadata": {
  "kernelspec": {
   "display_name": "VPython",
   "language": "python",
   "name": "vpython"
  },
  "language_info": {
   "codemirror_mode": {
    "name": "ipython",
    "version": 3
   },
   "file_extension": ".py",
   "mimetype": "text/x-python",
   "name": "python",
   "nbconvert_exporter": "python",
   "pygments_lexer": "ipython3",
   "version": "3.6.8"
  }
 },
 "nbformat": 4,
 "nbformat_minor": 2
}
