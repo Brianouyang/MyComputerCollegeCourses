{
 "cells": [
  {
   "cell_type": "code",
   "execution_count": 8,
   "metadata": {},
   "outputs": [],
   "source": [
    "#导入包\n",
    "import pandas as pd\n",
    "import numpy as np\n",
    "import matplotlib.pyplot as plt"
   ]
  },
  {
   "cell_type": "code",
   "execution_count": 45,
   "metadata": {},
   "outputs": [],
   "source": [
    "# 训练测试集分割\n",
    "def train_test_split(X, y, train_size=None ,seed=None):\n",
    "    \"\"\"将数据 X 和 y 按照test_ratio分割成X_train, X_test, y_train, y_test\"\"\"\n",
    "    assert X.shape[0] == y.shape[0], \\\n",
    "        \"the size of X must be equal to the size of y\"\n",
    "\n",
    "    if seed:\n",
    "        np.random.seed(seed)\n",
    "\n",
    "    shuffled_indexes = np.random.permutation(len(X))\n",
    "\n",
    "#     test_size = int(450)\n",
    "    test_indexes = shuffled_indexes[train_size:]\n",
    "    train_indexes = shuffled_indexes[:train_size]\n",
    "\n",
    "    X_train = X[train_indexes]\n",
    "    y_train = y[train_indexes]\n",
    "\n",
    "    X_test = X[test_indexes]\n",
    "    y_test = y[test_indexes]\n",
    "\n",
    "    return X_train, X_test, y_train, y_test"
   ]
  },
  {
   "cell_type": "code",
   "execution_count": 46,
   "metadata": {},
   "outputs": [],
   "source": [
    "# 实现 LDA 算法\n",
    "\n",
    "class LinearDiscrtAnays(object):\n",
    "    def __init__(self):\n",
    "        self.Xi_means = 0               #每个类别的均值向量\n",
    "        self.Xbar = 0                   #整体的均值向量\n",
    "        self.covMatrix = []             #每个类别的协方差矩阵\n",
    "        self.covariance_ = 0            #整体的协方差矩阵\n",
    "        self.X = 0                      #训练数据\n",
    "        self.y = 0                      #训练数据的分类标签\n",
    "        self.classes_ = 0               #具体类别\n",
    "        self.priors_ = 0                #每个类别的先验概率\n",
    "        self.n_samples = 0              #训练数据的样本数\n",
    "        self.n_features = 0             #训练数据的特征数\n",
    "        self.n_components = 0           #特征数\n",
    "        self.w = 0                      #特征向量\n",
    "    \n",
    "    #初始化特征    \n",
    "    \"\"\"calculate params, including:\n",
    "        0. X, y\n",
    "        1. n_samples, n_features;\n",
    "        2. classer, priors_;\n",
    "        3. Xi_means, Xbar, covMatrix;\n",
    "    \n",
    "    \"\"\"\n",
    "    def _params_init(self, X, y):\n",
    "        #0、赋值X和y\n",
    "        self.X, self.y = X, y\n",
    "        #1、计算样本数量和特征数量\n",
    "        self.n_samples, self.n_features = X.shape\n",
    "        #2、计算类别值、每个类别的先验概率\n",
    "        self.classes_, yidx = np.unique(y, return_inverse=True)\n",
    "        self.priors_ = np.bincount(y) / self.n_samples\n",
    "        #3、计算每类的均值\n",
    "        means = np.zeros((len(self.classes_), self.n_features))\n",
    "        np.add.at(means, yidx, X)\n",
    "        self.Xi_means = means / np.expand_dims(np.bincount(y), 1)\n",
    "        #4、计算每类的协方差矩阵、整体的协方差矩阵\n",
    "        self.covMatrix = [np.cov(X[y == group].T) \\\n",
    "                          for idx, group in enumerate(self.classes_)]\n",
    "        self.covariance_ = sum(self.covMatrix) / len(self.covMatrix)\n",
    "        #5、计算总体均值向量\n",
    "        self.Xbar = np.dot(np.expand_dims(self.priors_, axis=0), self.Xi_means)\n",
    "        return \n",
    "    \n",
    "    #训练\n",
    "    def train(self, X, y, n_components=None):\n",
    "        #初始化一些参数\n",
    "        self._params_init(X, y)\n",
    "        #求类内平均散度\n",
    "        Sw = self.covariance_\n",
    "        #求类间平均散度\n",
    "        Sb = sum([sum(y == group)*np.dot((self.Xi_means[idx,None] - self.Xbar).T, (self.Xi_means[idx,None] - self.Xbar)) \\\n",
    "                  for idx, group in enumerate(self.classes_)]) / (self.n_samples - 1)\n",
    "        #SVD求Sw的逆矩阵\n",
    "        U,S,V = np.linalg.svd(Sw)\n",
    "        Sn = np.linalg.inv(np.diag(S))\n",
    "        Swn = np.dot(np.dot(V.T,Sn),U.T)\n",
    "        SwnSb = np.dot(Swn,Sb)\n",
    "        #求特征值和特征向量，并取实数部分\n",
    "        la,vectors = np.linalg.eig(SwnSb)\n",
    "        la = np.real(la)\n",
    "        vectors = np.real(vectors)\n",
    "        #特征值的下标从大到小排列\n",
    "        laIdx = np.argsort(-la)\n",
    "        #默认选取(N-1)个特征值的下标\n",
    "        if n_components == None:\n",
    "            n_components = len(self.classes_)-1\n",
    "        #选取特征值和向量\n",
    "        lambda_index = laIdx[:n_components]\n",
    "        w = vectors[:,lambda_index]\n",
    "        self.w = w\n",
    "        self.n_components = n_components\n",
    "        return\n",
    "    \n",
    "    #求出投影后的矩阵\n",
    "    def transform(self, X):\n",
    "        return np.dot(X, self.w)\n",
    "    \n",
    "    #预测分类情况，出分类概率\n",
    "    def predict_prob(self, X):\n",
    "        #求整体协方差的逆\n",
    "        Sigma = self.covariance_\n",
    "        U,S,V = np.linalg.svd(Sigma)\n",
    "        Sn = np.linalg.inv(np.diag(S))\n",
    "        Sigman = np.dot(np.dot(V.T,Sn),U.T)\n",
    "        #线性判别函数值\n",
    "        value = np.log(np.expand_dims(self.priors_, axis=0)) - \\\n",
    "        0.5*np.multiply(np.dot(self.Xi_means, Sigman).T, self.Xi_means.T).sum(axis=0).reshape(1,-1) + \\\n",
    "        np.dot(np.dot(X, Sigman), self.Xi_means.T)\n",
    "        return value/np.expand_dims(value.sum(axis=1),1)\n",
    "    \n",
    "    #预测分类情况，出具体分类值\n",
    "    def predict(self, X):\n",
    "        pValue = self.predict_prob(X)\n",
    "        return np.argmax(pValue, axis=1)"
   ]
  },
  {
   "cell_type": "code",
   "execution_count": 47,
   "metadata": {},
   "outputs": [
    {
     "name": "stdout",
     "output_type": "stream",
     "text": [
      "   R   F      M   T  A\n",
      "0  2  50  12500  98  1\n",
      "1  0  13   3250  28  1\n",
      "2  1  16   4000  35  1\n",
      "3  2  20   5000  45  1\n",
      "4  1  24   6000  77  0\n",
      "(748, 5)\n"
     ]
    }
   ],
   "source": [
    "#导入数据并给每一维属性命名\n",
    "df = pd.read_csv(\"./blood_data.txt\",sep=',',encoding='utf-8',header=None,)\n",
    "df.columns = ['R','F','M','T','A']\n",
    "print(df.head())\n",
    "print(df.shape)"
   ]
  },
  {
   "cell_type": "code",
   "execution_count": 54,
   "metadata": {},
   "outputs": [
    {
     "name": "stdout",
     "output_type": "stream",
     "text": [
      "(748, 4)\n",
      "(748,)\n",
      "训练数据集 (598, 4) (598,)\n",
      "测试数据集 (150, 4) (150,)\n"
     ]
    }
   ],
   "source": [
    "cols=['R','F','M','T']\n",
    "x = df[cols].values\n",
    "y = df['A'].values\n",
    "print(x.shape)\n",
    "print(y.shape)\n",
    "\n",
    "#8:2 训练:测试\n",
    "x_train,x_test,y_train,y_test = train_test_split(x,y, train_size=int(748*0.8),seed=1)\n",
    "\n",
    "# from LinearRegression import LinearRegression\n",
    "\n",
    "print(\"训练数据集\",x_train.shape,y_train.shape)\n",
    "print(\"测试数据集\",x_test.shape,y_test.shape)"
   ]
  },
  {
   "cell_type": "code",
   "execution_count": 55,
   "metadata": {},
   "outputs": [],
   "source": [
    "lda= LinearDiscrtAnays()\n",
    "lda.train(x_train,y_train)\n"
   ]
  },
  {
   "cell_type": "code",
   "execution_count": 65,
   "metadata": {},
   "outputs": [
    {
     "name": "stdout",
     "output_type": "stream",
     "text": [
      "[0 0 0 1 1 1 0 1 0 0 0 0 1 0 0 1 1 0 0 1 0 0 0 0 0 1 1 0 1 1 0 0 1 0 0 0 0\n",
      " 0 0 0 1 0 0 1 0 0 0 0 1 0 0 1 1 1 1 0 1 0 0 0 0 0 0 0 1 0 0 1 1 0 1 0 0 0\n",
      " 0 0 1 1 0 1 0 0 0 0 1 1 1 0 0 0 0 0 1 1 0 0 1 0 1 1 1 0 1 0 0 0 0 1 0 0 0\n",
      " 0 1 1 0 1 0 1 1 1 0 1 0 0 1 0 1 1 1 0 0 1 0 0 0 0 0 0 0 0 0 1 1 1 1 0 0 0\n",
      " 0 1]\n",
      "[0 0 0 1 0 1 0 1 0 0 1 0 0 0 0 1 0 0 0 0 1 0 0 0 0 0 0 0 0 1 0 0 1 0 0 0 0\n",
      " 0 0 0 0 0 0 0 0 0 1 0 0 0 1 1 0 1 0 0 1 0 0 0 0 1 1 1 0 0 0 1 0 1 0 0 1 0\n",
      " 1 0 0 0 0 0 0 0 0 1 1 0 0 0 0 0 0 1 1 1 0 0 0 0 0 0 0 0 0 0 0 0 0 0 1 0 0\n",
      " 0 0 0 0 0 0 0 0 0 0 0 0 0 0 0 0 1 0 1 0 0 0 1 1 0 0 0 1 1 0 1 0 1 1 0 0 1\n",
      " 0 1]\n",
      "lda‘s accurancy is 0.620\n"
     ]
    }
   ],
   "source": [
    "#分类情况\n",
    "pre_y = lda.predict(x_test)\n",
    "print(pre_y)\n",
    "print(y_test)\n",
    "print(\"lda‘s accurancy is %.3f\"%(sum(pre_y==y_test)/pre_y.shape[0]))"
   ]
  },
  {
   "cell_type": "code",
   "execution_count": 79,
   "metadata": {},
   "outputs": [
    {
     "data": {
      "image/png": "[encoded data removed]",
      "text/plain": [
       "<Figure size 864x864 with 1 Axes>"
      ]
     },
     "metadata": {
      "needs_background": "light"
     },
     "output_type": "display_data"
    }
   ],
   "source": [
    "# 降维后的数据集画图\n",
    "X_self = lda.transform(x_test)\n",
    "# 自编码的LDA降维后数据\n",
    "fig = plt.figure(figsize=(12,12)) \n",
    "ax1 = fig.add_subplot(1,1,1)\n",
    "ax1.scatter(X_self[pre_y==0],X_self[pre_y==0],c='r',marker='+')\n",
    "ax1.scatter(X_self[pre_y==1],X_self[pre_y==1],c='b',marker='o')\n",
    "ax1.set_title(\"LDA\")\n",
    "plt.show()"
   ]
  },
  {
   "cell_type": "code",
   "execution_count": 80,
   "metadata": {},
   "outputs": [
    {
     "name": "stdout",
     "output_type": "stream",
     "text": [
      "lda_sklearn‘s accurancy is 0.633\n"
     ]
    }
   ],
   "source": [
    "from sklearn.discriminant_analysis import LinearDiscriminantAnalysis as LDA\n",
    "lda_sklearn = LDA(solver=\"eigen\", n_components=2)\n",
    "lda_sklearn.fit(x_train, y_train)\n",
    "pre_sklearn = lda_sklearn.predict(x_test)\n",
    "print(\"lda_sklearn‘s accurancy is %.3f\"%(sum(pre_sklearn==y_test)/pre_sklearn.shape[0]))"
   ]
  },
  {
   "cell_type": "code",
   "execution_count": 81,
   "metadata": {},
   "outputs": [
    {
     "data": {
      "image/png": "[encoded data removed]",
      "text/plain": [
       "<Figure size 864x864 with 1 Axes>"
      ]
     },
     "metadata": {
      "needs_background": "light"
     },
     "output_type": "display_data"
    }
   ],
   "source": [
    "X_sklearn = lda_sklearn.transform(x_test)\n",
    "fig = plt.figure(figsize=(12,12)) \n",
    "ax2 = fig.add_subplot(1,1,1)    \n",
    "ax2.scatter(X_sklearn[pre_sklearn==0],X_sklearn[pre_sklearn==0],c='r',marker='+')\n",
    "ax2.scatter(X_sklearn[pre_sklearn==1],X_sklearn[pre_sklearn==1],c='b',marker='o')\n",
    "ax2.set_title(\"LDA_sklearn\")\n",
    "plt.show()"
   ]
  },
  {
   "cell_type": "code",
   "execution_count": null,
   "metadata": {},
   "outputs": [],
   "source": []
  }
 ],
 "metadata": {
  "kernelspec": {
   "display_name": "Python 3",
   "language": "python",
   "name": "python3"
  },
  "language_info": {
   "codemirror_mode": {
    "name": "ipython",
    "version": 3
   },
   "file_extension": ".py",
   "mimetype": "text/x-python",
   "name": "python",
   "nbconvert_exporter": "python",
   "pygments_lexer": "ipython3",
   "version": "3.6.8"
  }
 },
 "nbformat": 4,
 "nbformat_minor": 2
}
